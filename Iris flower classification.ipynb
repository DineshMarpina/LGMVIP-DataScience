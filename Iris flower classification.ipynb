{
 "cells": [
  {
   "cell_type": "markdown",
   "metadata": {},
   "source": [
    "# Task 1\n",
    "\n",
    "# Iris flower classification\n"
   ]
  },
  {
   "cell_type": "markdown",
   "metadata": {},
   "source": [
    "#### Importing required libraries"
   ]
  },
  {
   "cell_type": "code",
   "execution_count": null,
   "metadata": {},
   "outputs": [],
   "source": [
    "import pandas as pd\n",
    "import numpy as np\n",
    "import matplotlib.pyplot as plt\n",
    "import seaborn as sns"
   ]
  },
  {
   "cell_type": "markdown",
   "metadata": {},
   "source": [
    "#### loading dataset "
   ]
  },
  {
   "cell_type": "code",
   "execution_count": null,
   "metadata": {},
   "outputs": [],
   "source": [
    "df= pd.read_csv(\"C:/Users\\marpi\\Downloads\\ml\\mldatasets\\iris.data\", header=None)\n",
    "clms=[\"sepallength\",\"sepalwidth\",\"petallength\",\"petalwidth\",\"species\"]\n",
    "df.columns=clms"
   ]
  },
  {
   "cell_type": "code",
   "execution_count": null,
   "metadata": {},
   "outputs": [],
   "source": [
    "df.head()"
   ]
  },
  {
   "cell_type": "markdown",
   "metadata": {},
   "source": [
    "#### Exploratory Data Analysis"
   ]
  },
  {
   "cell_type": "code",
   "execution_count": null,
   "metadata": {},
   "outputs": [],
   "source": [
    "df.describe()"
   ]
  },
  {
   "cell_type": "code",
   "execution_count": null,
   "metadata": {},
   "outputs": [],
   "source": [
    "df.info()"
   ]
  },
  {
   "cell_type": "markdown",
   "metadata": {},
   "source": [
    "#### Checking null values in the dataset "
   ]
  },
  {
   "cell_type": "code",
   "execution_count": null,
   "metadata": {},
   "outputs": [],
   "source": [
    "df.isnull().sum()"
   ]
  },
  {
   "cell_type": "markdown",
   "metadata": {},
   "source": [
    "#### Counting and grouping "
   ]
  },
  {
   "cell_type": "code",
   "execution_count": null,
   "metadata": {},
   "outputs": [],
   "source": [
    "df.count()"
   ]
  },
  {
   "cell_type": "code",
   "execution_count": null,
   "metadata": {},
   "outputs": [],
   "source": [
    "df.groupby(\"species\").size()"
   ]
  },
  {
   "cell_type": "markdown",
   "metadata": {},
   "source": [
    "#### Plotting"
   ]
  },
  {
   "cell_type": "code",
   "execution_count": null,
   "metadata": {},
   "outputs": [],
   "source": [
    "plt.hist(df[\"sepallength\"])\n",
    "plt.ylabel(\"count\")\n",
    "plt.xlabel(\"sepallength\")"
   ]
  },
  {
   "cell_type": "code",
   "execution_count": null,
   "metadata": {},
   "outputs": [],
   "source": [
    "plt.hist(df[\"sepalwidth\"])\n",
    "plt.xlabel(\"sepalwidth\")\n",
    "plt.ylabel(\"count\")"
   ]
  },
  {
   "cell_type": "code",
   "execution_count": null,
   "metadata": {},
   "outputs": [],
   "source": [
    "plt.hist(df[\"petallength\"])\n",
    "plt.xlabel(\"petallength\")\n",
    "plt.ylabel(\"count\")"
   ]
  },
  {
   "cell_type": "code",
   "execution_count": null,
   "metadata": {},
   "outputs": [],
   "source": [
    "plt.hist(df[\"petalwidth\"])\n",
    "plt.xlabel(\"petalwidth\")\n",
    "plt.ylabel(\"count\")"
   ]
  },
  {
   "cell_type": "code",
   "execution_count": null,
   "metadata": {},
   "outputs": [],
   "source": [
    "plt.plot(df[\"sepallength\"] [df[\"species\"]==\"Iris-setosa\"],df[\"sepalwidth\"] [df[\"species\"]==\"Iris-setosa\"],\"r.\",label=\"iris-setosta\")\n",
    "plt.plot(df[\"sepallength\"] [df[\"species\"]==\"Iris-versicolor\"],df[\"sepalwidth\"] [df[\"species\"]==\"Iris-versicolor\"],\"g.\",label=\"Iris-versicolor\")\n",
    "plt.plot(df[\"sepallength\"] [df[\"species\"]==\"Iris-virginica\"],df[\"sepalwidth\"] [df[\"species\"]==\"Iris-virginica\"],\"b.\",label=\"Iris-virginica\")\n",
    "plt.xlabel(\"sepallength\")\n",
    "plt.ylabel(\"sepalwidth\")\n",
    "plt.legend()\n"
   ]
  },
  {
   "cell_type": "code",
   "execution_count": null,
   "metadata": {},
   "outputs": [],
   "source": [
    "plt.plot(df[\"sepallength\"] [df[\"species\"]==\"Iris-setosa\"],df[\"petallength\"] [df[\"species\"]==\"Iris-setosa\"],\"r.\",label=\"iris-setosta\")\n",
    "plt.plot(df[\"sepallength\"] [df[\"species\"]==\"Iris-versicolor\"],df[\"petallength\"] [df[\"species\"]==\"Iris-versicolor\"],\"g.\",label=\"Iris-versicolor\")\n",
    "plt.plot(df[\"sepallength\"] [df[\"species\"]==\"Iris-virginica\"],df[\"petallength\"] [df[\"species\"]==\"Iris-virginica\"],\"b.\",label=\"Iris-virginica\")\n",
    "plt.xlabel(\"sepallength\")\n",
    "plt.ylabel(\"petallength\")\n",
    "plt.legend()"
   ]
  },
  {
   "cell_type": "code",
   "execution_count": null,
   "metadata": {},
   "outputs": [],
   "source": [
    "plt.plot(df[\"petalwidth\"] [df[\"species\"]==\"Iris-setosa\"],df[\"petallength\"] [df[\"species\"]==\"Iris-setosa\"],\"r.\",label=\"iris-setosta\")\n",
    "plt.plot(df[\"petalwidth\"] [df[\"species\"]==\"Iris-versicolor\"],df[\"petallength\"] [df[\"species\"]==\"Iris-versicolor\"],\"g.\",label=\"Iris-versicolor\")\n",
    "plt.plot(df[\"petalwidth\"] [df[\"species\"]==\"Iris-virginica\"],df[\"petallength\"] [df[\"species\"]==\"Iris-virginica\"],\"b.\",label=\"Iris-virginica\")\n",
    "plt.xlabel(\"petalwidth\")\n",
    "plt.ylabel(\"petallength\")\n",
    "plt.legend()"
   ]
  },
  {
   "cell_type": "markdown",
   "metadata": {},
   "source": [
    "#### Correlation Matrix"
   ]
  },
  {
   "cell_type": "code",
   "execution_count": null,
   "metadata": {},
   "outputs": [],
   "source": [
    "df.corr()"
   ]
  },
  {
   "cell_type": "code",
   "execution_count": null,
   "metadata": {
    "scrolled": true
   },
   "outputs": [],
   "source": [
    "fig,ax=plt.subplots(figsize=(6,5))\n",
    "sns.heatmap(df.corr(),annot=True)"
   ]
  },
  {
   "cell_type": "markdown",
   "metadata": {},
   "source": [
    "#### Label Encoding"
   ]
  },
  {
   "cell_type": "code",
   "execution_count": null,
   "metadata": {},
   "outputs": [],
   "source": [
    "from sklearn.preprocessing import LabelEncoder\n",
    "l=LabelEncoder()\n",
    "df[\"species\"]=l.fit_transform(df[\"species\"])\n",
    "\n",
    "df.groupby(\"species\").size()"
   ]
  },
  {
   "cell_type": "markdown",
   "metadata": {},
   "source": [
    "#### Model Training and Testing"
   ]
  },
  {
   "cell_type": "code",
   "execution_count": null,
   "metadata": {},
   "outputs": [],
   "source": [
    "from sklearn.model_selection import train_test_split\n",
    "\n",
    "X=df.drop(columns=[\"species\"])\n",
    "Y=df[\"species\"]\n",
    "x_train,x_test,y_train,y_test = train_test_split(X,Y,test_size=0.2)"
   ]
  },
  {
   "cell_type": "code",
   "execution_count": null,
   "metadata": {},
   "outputs": [],
   "source": [
    "from sklearn.linear_model import LogisticRegression\n",
    "model=LogisticRegression(max_iter=150)\n",
    "model.fit(x_train,y_train)\n",
    "\n",
    "print(\"The accuracy of the model is :\",model.score(x_test,y_test)*100)"
   ]
  },
  {
   "cell_type": "code",
   "execution_count": null,
   "metadata": {},
   "outputs": [],
   "source": [
    "from sklearn.neighbors import KNeighborsClassifier\n",
    "model=KNeighborsClassifier()\n",
    "\n",
    "model.fit(x_train,y_train)\n",
    "\n",
    "print(\"The accuracy of the model is :\",model.score(x_test,y_test)*100)"
   ]
  },
  {
   "cell_type": "code",
   "execution_count": null,
   "metadata": {},
   "outputs": [],
   "source": [
    "from sklearn.tree import DecisionTreeClassifier\n",
    "model=DecisionTreeClassifier()\n",
    "\n",
    "model.fit(x_train,y_train)\n",
    "\n",
    "print(\"The accuracy of the model is :\",model.score(x_test,y_test)*100)"
   ]
  }
 ],
 "metadata": {
  "kernelspec": {
   "display_name": "Python 3",
   "language": "python",
   "name": "python3"
  },
  "language_info": {
   "codemirror_mode": {
    "name": "ipython",
    "version": 3
   },
   "file_extension": ".py",
   "mimetype": "text/x-python",
   "name": "python",
   "nbconvert_exporter": "python",
   "pygments_lexer": "ipython3",
   "version": "3.8.3"
  }
 },
 "nbformat": 4,
 "nbformat_minor": 4
}
